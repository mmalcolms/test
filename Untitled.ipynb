{
 "cells": [
  {
   "cell_type": "code",
   "execution_count": 1,
   "metadata": {},
   "outputs": [],
   "source": [
    "from triqs.gf import Gf, BlockGf, Block2Gf, Idx\n",
    "from triqs.gf import MeshImFreq, MeshProduct\n",
    "from h5 import HDFArchive"
   ]
  },
  {
   "cell_type": "code",
   "execution_count": 2,
   "metadata": {},
   "outputs": [],
   "source": [
    "import os \n",
    "import numpy as np"
   ]
  },
  {
   "cell_type": "code",
   "execution_count": 3,
   "metadata": {},
   "outputs": [],
   "source": [
    "from triqs.plot.mpl_interface import oplot, oploti, oplotr\n",
    "from matplotlib.collections import PatchCollection\n",
    "import matplotlib\n",
    "import matplotlib.pyplot as plt\n",
    "from matplotlib import cm"
   ]
  },
  {
   "cell_type": "code",
   "execution_count": 4,
   "metadata": {},
   "outputs": [
    {
     "name": "stdout",
     "output_type": "stream",
     "text": [
      "Warning: could not identify MPI environment!\n"
     ]
    },
    {
     "name": "stderr",
     "output_type": "stream",
     "text": [
      "Starting serial run at: 2022-11-25 17:20:58.933889\n"
     ]
    }
   ],
   "source": [
    "from triqs_ctint.post_process import chi_tilde_ph_from_G2c\n"
   ]
  },
  {
   "cell_type": "code",
   "execution_count": 5,
   "metadata": {},
   "outputs": [],
   "source": [
    "from ladderdgammaa.dse import sum_iw_iw, make_f_channel_from_chi\n",
    "from ladderdgammaa.dse import make_chi_usable_frequencies, make_tensor_valued_chi\n"
   ]
  },
  {
   "cell_type": "code",
   "execution_count": 6,
   "metadata": {},
   "outputs": [],
   "source": [
    "parentDirectory = \"/home/deoliveira/Desktop/BSE_test\""
   ]
  },
  {
   "cell_type": "code",
   "execution_count": 7,
   "metadata": {},
   "outputs": [],
   "source": [
    "U    = 2.0\n",
    "beta = 15.0"
   ]
  },
  {
   "cell_type": "code",
   "execution_count": 8,
   "metadata": {},
   "outputs": [],
   "source": [
    "file_1pDMFT = \"dmft_U%.1f_b%.1f_n1.0.h5\"%(U, beta)\n",
    "inputDMFT = os.path.join(parentDirectory, file_1pDMFT)"
   ]
  },
  {
   "cell_type": "code",
   "execution_count": 9,
   "metadata": {},
   "outputs": [],
   "source": [
    "file_2pDMFT = \"G2c_ph_imp-U%.2f-b%.2f-measure0.h5\"%(U, beta)\n",
    "inputG2 = os.path.join(parentDirectory, file_2pDMFT)"
   ]
  },
  {
   "cell_type": "code",
   "execution_count": 10,
   "metadata": {},
   "outputs": [],
   "source": [
    "with HDFArchive(inputDMFT, \"r\") as A:\n",
    "    loop_input = max([int(k.replace('G_local-', '')) for k in [k for k in list(A.keys()) if 'G_local-' in k]])\n",
    "    Sigma_imp = A['Sigma_param-%i' %loop_input]\n",
    "    G_imp     = A['G_local-%i' %loop_input]\n"
   ]
  },
  {
   "cell_type": "code",
   "execution_count": 11,
   "metadata": {},
   "outputs": [],
   "source": [
    "G_imp[\"up\"]   = 0.5 * (G_imp[\"up\"] + G_imp[\"down\"])\n",
    "G_imp[\"down\"] = G_imp[\"up\"]"
   ]
  },
  {
   "cell_type": "code",
   "execution_count": 12,
   "metadata": {},
   "outputs": [],
   "source": [
    "with HDFArchive(inputG2, 'r') as A:\n",
    "    G2c_Wnnp = A['G2c_iw']\n"
   ]
  },
  {
   "cell_type": "code",
   "execution_count": 13,
   "metadata": {},
   "outputs": [],
   "source": [
    "G2c_Wnnp[\"up\",\"up\"]     = 0.5 * (G2c_Wnnp[\"up\",\"up\"] + G2c_Wnnp[\"down\",\"down\"])\n",
    "G2c_Wnnp[\"up\",\"down\"]   = 0.5 * (G2c_Wnnp[\"up\",\"down\"] + G2c_Wnnp[\"down\",\"up\"])\n",
    "G2c_Wnnp[\"down\",\"down\"] = G2c_Wnnp[\"up\",\"up\"]\n",
    "G2c_Wnnp[\"down\",\"up\"]   = G2c_Wnnp[\"up\",\"down\"]"
   ]
  },
  {
   "cell_type": "code",
   "execution_count": 14,
   "metadata": {},
   "outputs": [],
   "source": [
    "beta      = G_imp.mesh.beta\n",
    "gf_struct =[('up', 1), ('down', 1)]\n",
    "n_imp     = 2. * G_imp[\"up\"][0,0].density().real \n",
    "n_iwf_G2c = len(G2c_Wnnp['up', 'up'].mesh[0])//2\n"
   ]
  },
  {
   "cell_type": "code",
   "execution_count": 15,
   "metadata": {},
   "outputs": [
    {
     "name": "stdout",
     "output_type": "stream",
     "text": [
      "U = 2.0 and beta = 15.0\n",
      "Impurity density : 0.999993289609181\n",
      "Number of positive fermionic frequencies in the 2P-GF = 140\n"
     ]
    }
   ],
   "source": [
    "print(f\"U = {U} and beta = {beta}\")\n",
    "print(f\"Impurity density : {n_imp}\")\n",
    "print(f\"Number of positive fermionic frequencies in the 2P-GF = {n_iwf_G2c}\")\n"
   ]
  },
  {
   "cell_type": "code",
   "execution_count": 16,
   "metadata": {},
   "outputs": [
    {
     "name": "stdout",
     "output_type": "stream",
     "text": [
      "Number of fermionic frequencies in the vertex: 50\n"
     ]
    }
   ],
   "source": [
    "Niwb = 20\n",
    "n_iwf_vertex = 50#n_iwf_G2c - Niwb \n",
    "print(f\"Number of fermionic frequencies in the vertex: {n_iwf_vertex}\")\n"
   ]
  },
  {
   "cell_type": "code",
   "execution_count": 17,
   "metadata": {},
   "outputs": [
    {
     "name": "stdout",
     "output_type": "stream",
     "text": [
      "Calculation of the impurity generalized susceptibility.\n"
     ]
    }
   ],
   "source": [
    "print(\"Calculation of the impurity generalized susceptibility.\")\n",
    "chi_imp_wnnp = chi_tilde_ph_from_G2c(G2c_Wnnp, G_imp, gf_struct, Niwb, n_iwf_vertex)\n"
   ]
  },
  {
   "cell_type": "code",
   "execution_count": 18,
   "metadata": {},
   "outputs": [],
   "source": [
    "chi_uu = 0.5 * (chi_imp_wnnp['up', 'up'] + chi_imp_wnnp['down', 'down'])\n",
    "chi_ud = 0.5 * (chi_imp_wnnp['up', 'down'] + chi_imp_wnnp['down', 'up'])"
   ]
  },
  {
   "cell_type": "code",
   "execution_count": 19,
   "metadata": {},
   "outputs": [],
   "source": [
    "chi_ch = chi_uu + chi_ud\n",
    "chi_sp = chi_uu - chi_ud"
   ]
  },
  {
   "cell_type": "code",
   "execution_count": 20,
   "metadata": {},
   "outputs": [],
   "source": [
    "chi_ch_usable = make_tensor_valued_chi(make_chi_usable_frequencies(chi_ch[0,0,0,0]))\n",
    "chi_sp_usable = make_tensor_valued_chi(make_chi_usable_frequencies(chi_sp[0,0,0,0]))"
   ]
  },
  {
   "cell_type": "code",
   "execution_count": 21,
   "metadata": {},
   "outputs": [],
   "source": [
    "chi_ch_W = sum_iw_iw(chi_ch_usable[0,0,0,0])\n",
    "chi_sp_W = sum_iw_iw(chi_sp_usable[0,0,0,0])"
   ]
  },
  {
   "cell_type": "code",
   "execution_count": 22,
   "metadata": {},
   "outputs": [
    {
     "name": "stderr",
     "output_type": "stream",
     "text": [
      "No handles with labels found to put in legend.\n",
      "No handles with labels found to put in legend.\n"
     ]
    },
    {
     "data": {
      "image/png": "[encoded data removed]",
      "text/plain": [
       "<Figure size 432x288 with 1 Axes>"
      ]
     },
     "metadata": {
      "needs_background": "light"
     },
     "output_type": "display_data"
    }
   ],
   "source": [
    "oplotr(chi_sp_W, \"--o\",  label='')\n",
    "plt.xlabel(r\"$\\Omega_{n}$\", fontsize=20)\n",
    "plt.ylabel(r\"Re$\\chi_{sp}^{imp}\\left(i\\Omega_{n}\\right)$\", fontsize=20)\n",
    "plt.legend()\n",
    "plt.grid()\n",
    "plt.title(r\" U = %.2f  $\\beta$ = %.2f\"%(U, beta), fontsize=20)\n",
    "plt.show()"
   ]
  },
  {
   "cell_type": "code",
   "execution_count": 23,
   "metadata": {},
   "outputs": [
    {
     "name": "stderr",
     "output_type": "stream",
     "text": [
      "No handles with labels found to put in legend.\n",
      "No handles with labels found to put in legend.\n"
     ]
    },
    {
     "data": {
      "image/png": "[encoded data removed]",
      "text/plain": [
       "<Figure size 432x288 with 1 Axes>"
      ]
     },
     "metadata": {
      "needs_background": "light"
     },
     "output_type": "display_data"
    }
   ],
   "source": [
    "oplotr(chi_ch_W, \"--o\",  label='')\n",
    "plt.xlabel(r\"$\\Omega_{n}$\", fontsize=20)\n",
    "plt.ylabel(r\"Re$\\chi_{ch}^{imp}\\left(i\\Omega_{n}\\right)$\", fontsize=20)\n",
    "plt.legend()\n",
    "plt.grid()\n",
    "plt.title(r\" U = %.2f  $\\beta$ = %.2f\"%(U, beta), fontsize=20)\n",
    "plt.show()"
   ]
  },
  {
   "cell_type": "code",
   "execution_count": 24,
   "metadata": {},
   "outputs": [],
   "source": [
    "chi_ch_imp = chi_ch_usable\n",
    "chi_sp_imp = chi_sp_usable"
   ]
  },
  {
   "cell_type": "code",
   "execution_count": 25,
   "metadata": {},
   "outputs": [
    {
     "name": "stdout",
     "output_type": "stream",
     "text": [
      "Usable bosonic frequencies in the charge channel: 20\n",
      "Usable bosonic frequencies in the spin channel: 20\n"
     ]
    }
   ],
   "source": [
    "print(f\"Usable bosonic frequencies in the charge channel: {(len(chi_ch_imp.mesh[0])+1)//2}\")\n",
    "print(f\"Usable bosonic frequencies in the spin channel: {(len(chi_sp_imp.mesh[0])+1)//2}\")"
   ]
  },
  {
   "cell_type": "code",
   "execution_count": 26,
   "metadata": {},
   "outputs": [
    {
     "name": "stdout",
     "output_type": "stream",
     "text": [
      "calculation of the impurity generalized bubble.\n",
      "\n",
      "\n",
      "Calculation of the impurity irreducible vertex in the charge and spin channel.\n",
      "\n",
      "\n"
     ]
    }
   ],
   "source": [
    "from triqs_tprf.chi_from_gg2 import chi0_from_gg2_PH\n",
    "from triqs_tprf.linalg import inverse_PH\n",
    "print(\"calculation of the impurity generalized bubble.\")\n",
    "print(\"\\n\")\n",
    "# local generalized bubble\n",
    "chi0_wnnp_sp = chi0_from_gg2_PH(G_imp[\"up\"], chi_sp_imp)\n",
    "chi0_wnnp_ch = chi0_from_gg2_PH(G_imp[\"up\"], chi_ch_imp)\n",
    "\n",
    "print(\"Calculation of the impurity irreducible vertex in the charge and spin channel.\")\n",
    "print(\"\\n\")\n",
    "# irreducible vertex in the charge and spin channnels\n",
    "Gamma_ch_imp   = inverse_PH(chi0_wnnp_ch) - inverse_PH(chi_ch_imp)\n",
    "Gamma_sp_imp   = inverse_PH(chi0_wnnp_sp) - inverse_PH(chi_sp_imp)\n"
   ]
  },
  {
   "cell_type": "code",
   "execution_count": null,
   "metadata": {},
   "outputs": [],
   "source": []
  },
  {
   "cell_type": "code",
   "execution_count": null,
   "metadata": {},
   "outputs": [],
   "source": []
  },
  {
   "cell_type": "code",
   "execution_count": null,
   "metadata": {},
   "outputs": [],
   "source": []
  }
 ],
 "metadata": {
  "kernelspec": {
   "display_name": "Python 3",
   "language": "python",
   "name": "python3"
  },
  "language_info": {
   "codemirror_mode": {
    "name": "ipython",
    "version": 3
   },
   "file_extension": ".py",
   "mimetype": "text/x-python",
   "name": "python",
   "nbconvert_exporter": "python",
   "pygments_lexer": "ipython3",
   "version": "3.6.13"
  }
 },
 "nbformat": 4,
 "nbformat_minor": 4
}
